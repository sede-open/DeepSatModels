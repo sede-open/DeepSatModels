{
  "cells": [
    {
      "cell_type": "markdown",
      "metadata": {
        "nteract": {
          "transient": {
            "deleting": false
          }
        }
      },
      "source": [
        "Notebook to run:\n",
        "\n",
        "```bash\n",
        "python train_and_eval/segmentation_training_transf.py --config configs/PASTIS24/TSViT-S_fold1.yaml --device 0\n",
        "```\n"
      ]
    },
    {
      "cell_type": "code",
      "execution_count": null,
      "metadata": {
        "gather": {
          "logged": 1723718726633
        },
        "jupyter": {
          "outputs_hidden": false,
          "source_hidden": false
        },
        "nteract": {
          "transient": {
            "deleting": false
          }
        }
      },
      "outputs": [],
      "source": [
        "import os\n",
        "import sys\n"
      ]
    },
    {
      "cell_type": "code",
      "execution_count": null,
      "metadata": {
        "gather": {
          "logged": 1723718726742
        },
        "jupyter": {
          "outputs_hidden": false,
          "source_hidden": false
        },
        "nteract": {
          "transient": {
            "deleting": false
          }
        }
      },
      "outputs": [],
      "source": [
        "if \"notebooks\" in os.getcwd():\n",
        "    os.chdir(os.path.join(\"..\", \"src\"))\n",
        "\n",
        "os.getcwd()\n"
      ]
    },
    {
      "cell_type": "code",
      "execution_count": null,
      "metadata": {
        "jupyter": {
          "outputs_hidden": false,
          "source_hidden": false
        },
        "nteract": {
          "transient": {
            "deleting": false
          }
        }
      },
      "outputs": [],
      "source": [
        "%env PROTOCOL_BUFFERS_PYTHON_IMPLEMENTATION=python\n"
      ]
    },
    {
      "cell_type": "code",
      "execution_count": null,
      "metadata": {
        "gather": {
          "logged": 1723718735308
        },
        "jupyter": {
          "outputs_hidden": false,
          "source_hidden": false
        },
        "nteract": {
          "transient": {
            "deleting": false
          }
        }
      },
      "outputs": [],
      "source": [
        "from train_and_eval import segmentation_training_transf\n"
      ]
    },
    {
      "cell_type": "code",
      "execution_count": null,
      "metadata": {
        "collapsed": false,
        "gather": {
          "logged": 1723723116780
        },
        "jupyter": {
          "outputs_hidden": false,
          "source_hidden": false
        },
        "nteract": {
          "transient": {
            "deleting": false
          }
        }
      },
      "outputs": [],
      "source": [
        "config_file: str = \"../configs/PASTIS24/TSViT-S_fold1.yaml\"\n",
        "device_ids: list = [0]\n",
        "\n",
        "segmentation_training_transf.run(config_file=config_file, device_ids=device_ids)\n"
      ]
    },
    {
      "cell_type": "markdown",
      "metadata": {
        "nteract": {
          "transient": {
            "deleting": false
          }
        }
      },
      "source": [
        "---"
      ]
    },
    {
      "cell_type": "code",
      "execution_count": 2,
      "metadata": {
        "gather": {
          "logged": 1725281932696
        },
        "jupyter": {
          "outputs_hidden": false,
          "source_hidden": false
        },
        "nteract": {
          "transient": {
            "deleting": false
          }
        }
      },
      "outputs": [
        {
          "name": "stderr",
          "output_type": "stream",
          "text": [
            "WARNING:root: UserIdentityConfiguration will be removed from the azure.ai.ml namespace in a future release. Please use the azure.ai.ml.entities namespace instead.\n"
          ]
        }
      ],
      "source": [
        "\n",
        "import os\n",
        "from dotenv import load_dotenv\n",
        "from azure.ai.ml import command, Input, Output, UserIdentityConfiguration, MLClient\n",
        "from azure.ai.ml.entities import Environment, Data\n",
        "\n",
        "# Handle to the workspace\n",
        "from azure.ai.ml.constants import AssetTypes, InputOutputModes\n",
        "\n",
        "# Authentication package\n",
        "from azure.identity import DefaultAzureCredential, InteractiveBrowserCredential\n"
      ]
    },
    {
      "cell_type": "code",
      "execution_count": 3,
      "metadata": {
        "gather": {
          "logged": 1725281932773
        },
        "jupyter": {
          "outputs_hidden": false,
          "source_hidden": false
        },
        "nteract": {
          "transient": {
            "deleting": false
          }
        }
      },
      "outputs": [],
      "source": [
        "try:\n",
        "    load_dotenv()\n",
        "    subscription_id = os.environ.get(\"SUBSCRIPTION_ID\")\n",
        "    resource_group_name = os.environ.get(\"RESOURCE_GROUP\")\n",
        "    workspace_name = os.environ.get(\"WORKSPACE_NAME\")\n",
        "except Exception as e:\n",
        "    print(e)\n",
        "    print(\n",
        "        \"No .env file found. Created one with environment variables SUBSCRIPTION_ID, RESOURCE_GROUP, WORKSPACE_NAME\"\n",
        "    )\n"
      ]
    },
    {
      "cell_type": "code",
      "execution_count": 4,
      "metadata": {
        "gather": {
          "logged": 1725281933113
        },
        "jupyter": {
          "outputs_hidden": false,
          "source_hidden": false
        },
        "nteract": {
          "transient": {
            "deleting": false
          }
        }
      },
      "outputs": [],
      "source": [
        "try:\n",
        "    credential = DefaultAzureCredential()\n",
        "    # Check if given credential can get token successfully.\n",
        "    credential.get_token(\"https://management.azure.com/.default\")\n",
        "except Exception as ex:\n",
        "    # Fall back to InteractiveBrowserCredential in case DefaultAzureCredential not work\n",
        "    # This will open a browser page for\n",
        "    credential = InteractiveBrowserCredential()\n"
      ]
    },
    {
      "cell_type": "code",
      "execution_count": 5,
      "metadata": {
        "gather": {
          "logged": 1725281933708
        },
        "jupyter": {
          "outputs_hidden": false,
          "source_hidden": false
        },
        "nteract": {
          "transient": {
            "deleting": false
          }
        }
      },
      "outputs": [
        {
          "name": "stdout",
          "output_type": "stream",
          "text": [
            "Using AzureML Workspace `bioversml` within the RG `semantic_segmentation` and Subscription `8b829ed0-f80d-4b85-8636-a7967eaf7aed`\n"
          ]
        }
      ],
      "source": [
        "print(f\"Using AzureML Workspace `{workspace_name}` within the RG `{resource_group_name}` and Subscription `{subscription_id}`\")\n",
        "ml_client = MLClient(credential, subscription_id, resource_group_name, workspace_name)\n"
      ]
    },
    {
      "cell_type": "code",
      "execution_count": 6,
      "metadata": {
        "gather": {
          "logged": 1725281934094
        },
        "jupyter": {
          "outputs_hidden": false,
          "source_hidden": false
        },
        "nteract": {
          "transient": {
            "deleting": false
          }
        }
      },
      "outputs": [
        {
          "name": "stdout",
          "output_type": "stream",
          "text": [
            "\n",
            "Available Environments:\n",
            " - deepsatmodels_env:18\n",
            " - python-sdk-v2:20\n",
            " - CliV2AnonymousEnvironment:0\n",
            " - naturevers_inference_env:2\n",
            " - naturevers_dataset_env:1\n",
            " - naturevers_azureml:0\n",
            " - fallowland:0\n",
            " - tritonNcdEnv:0\n",
            " - AzureML-ACPT-pytorch-1.13-py38-cuda11.7-gpu:10\n",
            " - AzureML-TensorFlow2.4-Cuda11-OpenMpi4.1.0-py36:1\n",
            " - AzureML-Scikit-learn0.24-Cuda11-OpenMpi4.1.0-py36:1\n",
            " - AzureML-Pytorch1.7-Cuda11-OpenMpi4.1.0-py36:1\n"
          ]
        }
      ],
      "source": [
        "print(\"\\nAvailable Environments:\")\n",
        "for env in ml_client.environments.list():\n",
        "    print(f\" - {env.name}:{env.latest_version}\")\n"
      ]
    },
    {
      "cell_type": "code",
      "execution_count": 7,
      "metadata": {
        "collapsed": false,
        "gather": {
          "logged": 1725281935047
        },
        "jupyter": {
          "outputs_hidden": false,
          "source_hidden": false
        },
        "nteract": {
          "transient": {
            "deleting": false
          }
        }
      },
      "outputs": [
        {
          "name": "stdout",
          "output_type": "stream",
          "text": [
            "Latest Jobs:\n",
            " - 'DeepSatModels Segmentation Training'\n",
            " - 'DeepSatModels Segmentation Training'\n",
            " - 'DeepSatModels Segmentation Training'\n",
            " - 'DeepSatModels Segmentation Training'\n",
            " - 'boring_window_6pxm225t'\n",
            " - 'DeepSatModels Segmentation Training'\n",
            " - 'frosty_cat_9lm2ywzd'\n"
          ]
        }
      ],
      "source": [
        "print(\"Latest Jobs:\")\n",
        "for index, job in enumerate(ml_client.jobs.list()):\n",
        "    print(f\" - '{job.display_name}'\")\n",
        "    if index > 5:\n",
        "        break\n"
      ]
    },
    {
      "cell_type": "code",
      "execution_count": 8,
      "metadata": {
        "gather": {
          "logged": 1725281935154
        },
        "jupyter": {
          "outputs_hidden": false,
          "source_hidden": false
        },
        "nteract": {
          "transient": {
            "deleting": false
          }
        }
      },
      "outputs": [],
      "source": [
        "env_name = \"naturevers_inference_env\"\n",
        "env_version = \"2\"\n",
        "\n",
        "env = ml_client.environments.get(\n",
        "        env_name, version=str(env_version)\n",
        "    )\n"
      ]
    },
    {
      "cell_type": "code",
      "execution_count": 9,
      "metadata": {
        "gather": {
          "logged": 1725281935466
        }
      },
      "outputs": [
        {
          "name": "stdout",
          "output_type": "stream",
          "text": [
            "covercropatlas DatastoreType.AZURE_BLOB semsegstorage biovers-covercrop-atlas\n"
          ]
        },
        {
          "data": {
            "text/plain": [
              "{'type': 'uri_folder', 'path': '/subscriptions/8b829ed0-f80d-4b85-8636-a7967eaf7aed/resourceGroups/semantic_segmentation/providers/Microsoft.MachineLearningServices/workspaces/bioversml/datastores/covercropatlas', 'mode': 'mount'}"
            ]
          },
          "metadata": {},
          "output_type": "display_data"
        }
      ],
      "source": [
        "datastore = ml_client.datastores.get(\"covercropatlas\")\n",
        "print(datastore.name, datastore.type, datastore.account_name, datastore.container_name)\n",
        "\n",
        "datastore_folder = Input(\n",
        "    path=datastore.id,\n",
        "    type=AssetTypes.URI_FOLDER,\n",
        "    mode=InputOutputModes.MOUNT,\n",
        ")\n",
        "display(datastore_folder)\n"
      ]
    },
    {
      "cell_type": "code",
      "execution_count": 10,
      "metadata": {
        "gather": {
          "logged": 1725281935526
        },
        "jupyter": {
          "outputs_hidden": false,
          "source_hidden": false
        },
        "nteract": {
          "transient": {
            "deleting": false
          }
        }
      },
      "outputs": [],
      "source": [
        "job_args = {\n",
        "    \"inputs\": dict(\n",
        "        datastore_folder=datastore_folder\n",
        "    ),\n",
        "    \"outputs\": dict(),\n",
        "    \"code\": \"../src\",  # location of source code\n",
        "    \"command\": \"\"\"python aml_job/train_segmentation_model.py\"\"\",\n",
        "    \"environment\": env,\n",
        "    \"compute\": \"FALLOWV100WESTLOW\",\n",
        "    \"experiment_name\": \"deepsatmodels_segmentation_training\",\n",
        "    \"display_name\": \"DeepSatModels Segmentation Training\",\n",
        "    \"description\": \"Training segmentation model using DeepSatModels repository\",\n",
        "    \"identity\": UserIdentityConfiguration(),\n",
        "}\n",
        "job = command(**job_args)\n"
      ]
    },
    {
      "cell_type": "code",
      "execution_count": 12,
      "metadata": {
        "collapsed": false,
        "gather": {
          "logged": 1725281945138
        },
        "jupyter": {
          "outputs_hidden": false,
          "source_hidden": false
        },
        "nteract": {
          "transient": {
            "deleting": false
          }
        }
      },
      "outputs": [
        {
          "name": "stdout",
          "output_type": "stream",
          "text": [
            "DONE\n"
          ]
        }
      ],
      "source": [
        "# ml_client.create_or_update(job)\n",
        "\n",
        "print(\"DONE\")\n"
      ]
    },
    {
      "cell_type": "code",
      "execution_count": null,
      "metadata": {
        "jupyter": {
          "outputs_hidden": false,
          "source_hidden": false
        },
        "nteract": {
          "transient": {
            "deleting": false
          }
        }
      },
      "outputs": [],
      "source": []
    },
    {
      "cell_type": "code",
      "execution_count": 16,
      "metadata": {
        "gather": {
          "logged": 1725286519528
        },
        "jupyter": {
          "outputs_hidden": false,
          "source_hidden": false
        },
        "nteract": {
          "transient": {
            "deleting": false
          }
        }
      },
      "outputs": [
        {
          "name": "stdout",
          "output_type": "stream",
          "text": [
            "\n",
            "Please wait a moment while I gather a list of all available modules...\n",
            "\n",
            "Fail to import hypothesis in common_utils, tests are not derandomized\n",
            "Cython              caffe2              jupyterlab_server   requests_oauthlib\n",
            "IPython             calendar            jupyterlab_widgets  resource\n",
            "OpenSSL             certifi             jwt                 rlcompleter\n",
            "PIL                 cffi                keras               rpds\n",
            "PyQt5               cgi                 keras_preprocessing rsa\n",
            "__future__          cgitb               keyword             runpy\n",
            "_abc                chainer             kiwisolver          sched\n",
            "_argon2_cffi_bindings chainercv           knack               scipy\n",
            "_ast                chainermn           lib2to3             secrets\n",
            "_asyncio            chainerx            libfuturize         secretstorage\n",
            "_bisect             chardet             libpasteurize       select\n",
            "_blake2             charset_normalizer  linecache           selectors\n",
            "_bootlocale         chunk               locale              send2trash\n",
            "_brotli             cloudpickle         logging             setuptools\n",
            "_bz2                cmath               lxml                shelve\n",
            "_cffi_backend       cmd                 lzma                shlex\n",
            "_codecs             code                mailbox             shutil\n",
            "_codecs_cn          codecs              mailcap             signal\n",
            "_codecs_hk          codeop              markdown            sip\n",
            "_codecs_iso2022     collections         markupsafe          sipconfig\n",
            "_codecs_jp          colorama            marshal             sipdistutils\n",
            "_codecs_kr          colorsys            marshmallow         site\n",
            "_codecs_tw          comm                math                six\n",
            "_collections        compileall          matplotlib          skimage\n",
            "_collections_abc    concurrent          matplotlib_inline   sklearn\n",
            "_compat_pickle      configparser        mimetypes           smtpd\n",
            "_compression        contextlib          mistune             smtplib\n",
            "_contextvars        contextlib2         mkl                 sndhdr\n",
            "_crypt              contextvars         mkl_fft             socket\n",
            "_csv                copy                mkl_random          socketserver\n",
            "_ctypes             copyreg             mmap                socks\n",
            "_ctypes_test        crypt               mmcv                sockshandler\n",
            "_curses             cryptography        modulefinder        soupsieve\n",
            "_curses_panel       csv                 mpmath              spwd\n",
            "_datetime           ctypes              msal                sqlite3\n",
            "_decimal            curses              msal_extensions     sre_compile\n",
            "_dummy_thread       cv2                 msrest              sre_constants\n",
            "_elementtree        cycler              msrestazure         sre_parse\n",
            "_functools          cython              multiprocessing     ssl\n",
            "_hashlib            cytoolz             nacl                stack_data\n",
            "_heapq              dask                nbclient            stat\n",
            "_imp                dataclasses         nbconvert           statistics\n",
            "_io                 datetime            nbformat            strictyaml\n",
            "_json               dateutil            ndg                 string\n",
            "_locale             dbm                 nest_asyncio        stringprep\n",
            "_lsprof             debugpy             netrc               struct\n",
            "_lzma               decimal             networkx            subprocess\n",
            "_markupbase         decorator           nibabel             sunau\n",
            "_md5                defusedxml          nis                 symbol\n",
            "_multibytecodec     difflib             nisext              sympy\n",
            "_multiprocessing    dis                 nntplib             symtable\n",
            "_opcode             distutils           notebook            sys\n",
            "_operator           docker              ntpath              sysconfig\n",
            "_osx_support        docs                nturl2path          syslog\n",
            "_pickle             doctest             numbers             tabnanny\n",
            "_posixshmem         dotenv              numpy               tabulate\n",
            "_posixsubprocess    dummy_threading     nvidia              tarfile\n",
            "_py_abc             easy_install        oauthlib            telnetlib\n",
            "_pydecimal          einops              olefile             tempfile\n",
            "_pyio               email               onnx_chainer        tensorboard\n",
            "_pyrsistent_version encodings           opcode              tensorboard_plugin_wit\n",
            "_queue              ensurepip           opencensus          tensorflow\n",
            "_random             entrypoints         operator            tensorflow_estimator\n",
            "_sha1               enum                opt_einsum          termcolor\n",
            "_sha256             errno               optparse            terminado\n",
            "_sha3               executing           os                  termios\n",
            "_sha512             fastjsonschema      ossaudiodev         test\n",
            "_signal             faulthandler        packaging           test_png\n",
            "_sitebuiltins       fcn                 pandas              tests\n",
            "_socket             fcntl               pandocfilters       textwrap\n",
            "_sqlite3            filecmp             paramiko            this\n",
            "_sre                fileinput           parser              threading\n",
            "_ssl                filelock            parso               threadpoolctl\n",
            "_stat               fnmatch             past                tifffile\n",
            "_statistics         formatter           pasta               time\n",
            "_string             fractions           pathlib             timeit\n",
            "_strptime           fsspec              pathspec            timm\n",
            "_struct             ftplib              pdb                 tinycss2\n",
            "_symtable           functools           pexpect             tkinter\n",
            "_sysconfigdata__linux_x86_64-linux-gnu functorch           pickle              tlz\n",
            "_sysconfigdata_aarch64_conda_cos7_linux_gnu future              pickleshare         token\n",
            "_sysconfigdata_i686_conda_cos6_linux_gnu gast                pickletools         tokenize\n",
            "_sysconfigdata_powerpc64le_conda_cos7_linux_gnu gc                  pip                 toolz\n",
            "_sysconfigdata_x86_64_apple_darwin13_4_0 gdown               pipes               torch\n",
            "_sysconfigdata_x86_64_conda_cos6_linux_gnu genericpath         pkg_resources       torchaudio\n",
            "_testbuffer         getopt              pkginfo             torchfcn\n",
            "_testcapi           getpass             pkgutil             torchgen\n",
            "_testimportmultiple gettext             pkgutil_resolve_name torchvision\n",
            "_testinternalcapi   glob                platform            tornado\n",
            "_testmultiphase     google_auth_oauthlib platformdirs        tqdm\n",
            "_thread             grp                 plistlib            trace\n",
            "_threading_local    grpc                png                 traceback\n",
            "_tkinter            gzip                pngsuite            tracemalloc\n",
            "_tracemalloc        h5py                poplib              traitlets\n",
            "_warnings           hashlib             portalocker         triton\n",
            "_weakref            heapq               posix               tty\n",
            "_weakrefset         hmac                posixpath           turtle\n",
            "_xxsubinterpreters  html                pprint              turtledemo\n",
            "_xxtestfuzz         http                profile             types\n",
            "_yaml               huggingface_hub     prometheus_client   typing\n",
            "abc                 humanfriendly       prompt_toolkit      typing_extensions\n",
            "absl                idlelib             proto               unicodedata\n",
            "adal                idna                pstats              unittest\n",
            "addict              imagecodecs_lite    psutil              urllib\n",
            "aifc                imageio             pty                 urllib3\n",
            "antigravity         imaplib             ptyprocess          uu\n",
            "argcomplete         imghdr              pure_eval           uuid\n",
            "argon2              imp                 pvectorc            venv\n",
            "argparse            importlib           pwd                 warnings\n",
            "array               importlib_resources py_compile          wave\n",
            "ast                 inspect             pyasn1              wcwidth\n",
            "asttokens           io                  pyasn1_modules      weakref\n",
            "astunparse          ipaddress           pyclbr              webbrowser\n",
            "asynchat            ipykernel           pycocotools         webencodings\n",
            "asyncio             ipykernel_launcher  pycparser           werkzeug\n",
            "asyncore            ipython_genutils    pydash              wheel\n",
            "atexit              ipywidgets          pydoc               widgetsnbextension\n",
            "attr                isodate             pydoc_data          wrapt\n",
            "attrs               isympy              pyexpat             wsgiref\n",
            "audioop             itertools           pygments            xdrlib\n",
            "azureml             jedi                pylab               xml\n",
            "backcall            jeepney             pyparsing           xmlrpc\n",
            "backports           jinja2              pyrsistent          xxlimited\n",
            "base64              jmespath            pytz                xxsubtype\n",
            "bcrypt              joblib              pywt                yaml\n",
            "bdb                 json                pyximport           yapf\n",
            "binascii            json5               qtconsole           yapftests\n",
            "binhex              jsonpickle          qtpy                zipapp\n",
            "bisect              jsonschema          queue               zipfile\n",
            "bleach              jsonschema_specifications quopri              zipimport\n",
            "brotli              jupyter             random              zipp\n",
            "bs4                 jupyter_client      re                  zlib\n",
            "builtins            jupyter_console     readline            zmq\n",
            "bz2                 jupyter_core        referencing         \n",
            "cProfile            jupyterlab          reprlib             \n",
            "cachetools          jupyterlab_pygments requests            \n",
            "\n",
            "Enter any module name to get more help.  Or, type \"modules spam\" to search\n",
            "for modules whose name or summary contain the string \"spam\".\n",
            "\n"
          ]
        },
        {
          "name": "stderr",
          "output_type": "stream",
          "text": [
            "/anaconda/envs/deepsatmodels/lib/python3.8/pkgutil.py:92: MatplotlibDeprecationWarning: \n",
            "The matplotlib.compat module was deprecated in Matplotlib 3.3 and will be removed two minor releases later.\n",
            "  __import__(info.name)\n",
            "/anaconda/envs/deepsatmodels/lib/python3.8/site-packages/setuptools/distutils_patch.py:25: UserWarning: Distutils was imported before Setuptools. This usage is discouraged and may exhibit undesirable behaviors or errors. Please use Setuptools' objects directly or at least import Setuptools first.\n",
            "  warnings.warn(\n",
            "/anaconda/envs/deepsatmodels/lib/python3.8/pkgutil.py:92: UserWarning: The DICOM readers are highly experimental, unstable, and only work for Siemens time-series at the moment\n",
            "Please use with caution.  We would be grateful for your help in improving them\n",
            "  __import__(info.name)\n",
            "/anaconda/envs/deepsatmodels/lib/python3.8/site-packages/skimage/viewer/utils/__init__.py:1: UserWarning: Recommended matplotlib backend is `Agg` for full skimage.viewer functionality.\n",
            "  from .core import *\n",
            "/anaconda/envs/deepsatmodels/lib/python3.8/site-packages/torchaudio/backend/utils.py:53: UserWarning: \"sox\" backend is being deprecated. The default backend will be changed to \"sox_io\" backend in 0.8.0 and \"sox\" backend will be removed in 0.9.0. Please migrate to \"sox_io\" backend. Please refer to https://github.com/pytorch/audio/issues/903 for the detail.\n",
            "  warnings.warn(\n",
            "/anaconda/envs/deepsatmodels/lib/python3.8/pkgutil.py:107: VisibleDeprecationWarning: zmq.eventloop.minitornado is deprecated in pyzmq 14.0 and will be removed.\n",
            "    Install tornado itself to use zmq with the tornado IOLoop.\n",
            "    \n",
            "  yield from walk_packages(path, info.name+'.', onerror)\n"
          ]
        }
      ],
      "source": [
        "help('modules')\n"
      ]
    },
    {
      "cell_type": "code",
      "execution_count": 19,
      "metadata": {
        "jupyter": {
          "outputs_hidden": false,
          "source_hidden": false
        },
        "nteract": {
          "transient": {
            "deleting": false
          }
        }
      },
      "outputs": [],
      "source": [
        "!conda list | grep timm\n"
      ]
    },
    {
      "cell_type": "code",
      "execution_count": 17,
      "metadata": {
        "gather": {
          "logged": 1725286535652
        },
        "jupyter": {
          "outputs_hidden": false,
          "source_hidden": false
        },
        "nteract": {
          "transient": {
            "deleting": false
          }
        }
      },
      "outputs": [],
      "source": [
        "import timm\n"
      ]
    },
    {
      "cell_type": "code",
      "execution_count": 20,
      "metadata": {
        "gather": {
          "logged": 1725286577791
        },
        "jupyter": {
          "outputs_hidden": false,
          "source_hidden": false
        },
        "nteract": {
          "transient": {
            "deleting": false
          }
        }
      },
      "outputs": [
        {
          "data": {
            "text/plain": [
              "'0.4.12'"
            ]
          },
          "execution_count": 20,
          "metadata": {},
          "output_type": "execute_result"
        }
      ],
      "source": [
        "timm.__version__"
      ]
    },
    {
      "cell_type": "code",
      "execution_count": 13,
      "metadata": {
        "gather": {
          "logged": 1725281945975
        },
        "jupyter": {
          "outputs_hidden": false,
          "source_hidden": false
        },
        "nteract": {
          "transient": {
            "deleting": false
          }
        }
      },
      "outputs": [
        {
          "data": {
            "text/plain": [
              "{'type': 'uri_file', 'path': '../datasets.yaml', 'mode': 'mount'}"
            ]
          },
          "execution_count": 13,
          "metadata": {},
          "output_type": "execute_result"
        }
      ],
      "source": [
        "\n",
        "path: str = os.path.join(\"..\", \"datasets.yaml\")\n",
        "\n",
        "datasets_yaml = Input(\n",
        "    path=path,\n",
        "    type=AssetTypes.URI_FILE,\n",
        "    mode=InputOutputModes.MOUNT,\n",
        ")\n",
        "\n",
        "datasets_yaml\n"
      ]
    },
    {
      "cell_type": "code",
      "execution_count": null,
      "metadata": {
        "jupyter": {
          "outputs_hidden": false,
          "source_hidden": false
        },
        "nteract": {
          "transient": {
            "deleting": false
          }
        }
      },
      "outputs": [],
      "source": []
    }
  ],
  "metadata": {
    "kernel_info": {
      "name": "deepsatmodels"
    },
    "kernelspec": {
      "display_name": "deepsatmodels",
      "language": "python",
      "name": "python3"
    },
    "language_info": {
      "codemirror_mode": {
        "name": "ipython",
        "version": 3
      },
      "file_extension": ".py",
      "mimetype": "text/x-python",
      "name": "python",
      "nbconvert_exporter": "python",
      "pygments_lexer": "ipython3",
      "version": "3.8.3"
    },
    "microsoft": {
      "host": {
        "AzureML": {
          "notebookHasBeenCompleted": true
        }
      },
      "ms_spell_check": {
        "ms_spell_check_language": "en"
      }
    },
    "nteract": {
      "version": "nteract-front-end@1.0.0"
    }
  },
  "nbformat": 4,
  "nbformat_minor": 2
}
